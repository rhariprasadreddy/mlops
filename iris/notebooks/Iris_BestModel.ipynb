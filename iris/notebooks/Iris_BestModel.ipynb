{
 "cells": [
  {
   "cell_type": "code",
   "execution_count": 1,
   "id": "996c6f12-c259-4cc1-81a6-2ac81ba1ba8c",
   "metadata": {},
   "outputs": [
    {
     "name": "stderr",
     "output_type": "stream",
     "text": [
      "/home/mlops/fashion/venv/lib/python3.12/site-packages/mlflow/utils/requirements_utils.py:20: UserWarning: pkg_resources is deprecated as an API. See https://setuptools.pypa.io/en/latest/pkg_resources.html. The pkg_resources package is slated for removal as early as 2025-11-30. Refrain from using this package or pin to Setuptools<81.\n",
      "  import pkg_resources  # noqa: TID251\n"
     ]
    },
    {
     "name": "stdout",
     "output_type": "stream",
     "text": [
      "📁 6 — housing-DecisionTree\n",
      "📁 5 — Housing-LinearRegression\n",
      "📁 4 — Iris-Models\n",
      "📁 3 — FashionMNIST-MLP\n",
      "📁 2 — FashionMNIST-CNN\n",
      "📁 0 — Default\n"
     ]
    }
   ],
   "source": [
    "import mlflow\n",
    "from mlflow.tracking import MlflowClient\n",
    "\n",
    "# Set this to match what your MLflow UI is using (adjust if needed)\n",
    "mlflow.set_tracking_uri(\"http://localhost:5000\")  # assuming UI is served here\n",
    "\n",
    "client = MlflowClient()\n",
    "\n",
    "experiments = client.search_experiments()\n",
    "\n",
    "for exp in experiments:\n",
    "    print(f\"📁 {exp.experiment_id} — {exp.name}\")"
   ]
  },
  {
   "cell_type": "code",
   "execution_count": 2,
   "id": "6a981a6f-9dd9-47ec-a18f-b6d7fc3de127",
   "metadata": {},
   "outputs": [
    {
     "name": "stdout",
     "output_type": "stream",
     "text": [
      "✅ Best Iris model: LogisticRegression_Iris (Accuracy: 0.9667)\n"
     ]
    }
   ],
   "source": [
    "import mlflow\n",
    "from mlflow.tracking import MlflowClient\n",
    "\n",
    "# Initialize\n",
    "client = MlflowClient()\n",
    "experiment_name = \"Iris-Models\"\n",
    "\n",
    "# Get experiment by name\n",
    "experiment = client.get_experiment_by_name(experiment_name)\n",
    "if not experiment:\n",
    "    raise ValueError(f\"❌ Experiment '{experiment_name}' not found.\")\n",
    "\n",
    "# Get all runs\n",
    "runs = client.search_runs(experiment.experiment_id)\n",
    "iris_runs = []\n",
    "\n",
    "for run in runs:\n",
    "    metrics = run.data.metrics\n",
    "    if \"accuracy\" in metrics:\n",
    "        iris_runs.append({\n",
    "            \"run_id\": run.info.run_id,\n",
    "            \"accuracy\": metrics[\"accuracy\"],\n",
    "            \"model_name\": run.data.tags.get(\"mlflow.runName\", \"Unnamed\"),\n",
    "        })\n",
    "\n",
    "if not iris_runs:\n",
    "    raise ValueError(\"❌ No valid runs with 'accuracy' found!\")\n",
    "\n",
    "# Select the best run based on accuracy\n",
    "best_iris_run = max(iris_runs, key=lambda x: x[\"accuracy\"])\n",
    "best_run_id = best_iris_run[\"run_id\"]\n",
    "print(f\"✅ Best Iris model: {best_iris_run['model_name']} (Accuracy: {best_iris_run['accuracy']:.4f})\")\n"
   ]
  },
  {
   "cell_type": "code",
   "execution_count": 3,
   "id": "349c93af-246d-4654-9284-451114743698",
   "metadata": {},
   "outputs": [
    {
     "name": "stderr",
     "output_type": "stream",
     "text": [
      "Registered model 'IrisBestModel' already exists. Creating a new version of this model...\n",
      "2025/07/27 14:30:05 INFO mlflow.store.model_registry.abstract_store: Waiting up to 300 seconds for model version to finish creation. Model name: IrisBestModel, version 3\n"
     ]
    },
    {
     "name": "stdout",
     "output_type": "stream",
     "text": [
      "🚀 Model version 3 promoted to 'Production'\n"
     ]
    },
    {
     "name": "stderr",
     "output_type": "stream",
     "text": [
      "Created version '3' of model 'IrisBestModel'.\n",
      "/tmp/ipykernel_2176874/1616656766.py:10: FutureWarning: ``mlflow.tracking.client.MlflowClient.transition_model_version_stage`` is deprecated since 2.9.0. Model registry stages will be removed in a future major release. To learn more about the deprecation of model registry stages, see our migration guide here: https://mlflow.org/docs/2.13.1/model-registry.html#migrating-from-stages\n",
      "  client.transition_model_version_stage(\n"
     ]
    }
   ],
   "source": [
    "# Register and Promote\n",
    "model_name = \"IrisBestModel\"\n",
    "artifact_path = \"model\"  # Change if your model was logged under another artifact name\n",
    "model_uri = f\"runs:/{best_run_id}/{artifact_path}\"\n",
    "\n",
    "# Register model\n",
    "model_version = mlflow.register_model(model_uri=model_uri, name=model_name)\n",
    "\n",
    "# Promote to Production\n",
    "client.transition_model_version_stage(\n",
    "    name=model_name,\n",
    "    version=model_version.version,\n",
    "    stage=\"Production\",\n",
    "    archive_existing_versions=True\n",
    ")\n",
    "\n",
    "print(f\"🚀 Model version {model_version.version} promoted to 'Production'\")\n"
   ]
  },
  {
   "cell_type": "code",
   "execution_count": 4,
   "id": "05d8eadc-96da-4306-bf40-b29a0f782543",
   "metadata": {},
   "outputs": [
    {
     "name": "stderr",
     "output_type": "stream",
     "text": [
      "/home/mlops/fashion/venv/lib/python3.12/site-packages/mlflow/store/artifact/utils/models.py:32: FutureWarning: ``mlflow.tracking.client.MlflowClient.get_latest_versions`` is deprecated since 2.9.0. Model registry stages will be removed in a future major release. To learn more about the deprecation of model registry stages, see our migration guide here: https://mlflow.org/docs/2.13.1/model-registry.html#migrating-from-stages\n",
      "  latest = client.get_latest_versions(name, None if stage is None else [stage])\n"
     ]
    },
    {
     "name": "stdout",
     "output_type": "stream",
     "text": [
      "Predicted class for Sample 1: Iris-setosa\n",
      "Predicted class for Sample 2: Iris-virginica\n"
     ]
    }
   ],
   "source": [
    "import mlflow\n",
    "import pandas as pd\n",
    "\n",
    "# Optional: set tracking URI if not already default\n",
    "mlflow.set_tracking_uri(\"http://localhost:5000\")\n",
    "\n",
    "# Load the Production model\n",
    "model = mlflow.pyfunc.load_model(\"models:/IrisBestModel/Production\")\n",
    "\n",
    "# Class label mapping\n",
    "class_map = {\n",
    "    0: \"Iris-setosa\",\n",
    "    1: \"Iris-versicolor\",\n",
    "    2: \"Iris-virginica\"\n",
    "}\n",
    "\n",
    "# === Sample Input 1 ===\n",
    "X_sample1 = pd.DataFrame([[5.1, 3.5, 1.4, 0.2]], columns=[\n",
    "    \"sepal length (cm)\", \"sepal width (cm)\", \"petal length (cm)\", \"petal width (cm)\"\n",
    "])\n",
    "pred1 = model.predict(X_sample1)\n",
    "print(\"Predicted class for Sample 1:\", class_map[int(pred1[0])])\n",
    "\n",
    "# === Sample Input 2 ===\n",
    "X_sample2 = pd.DataFrame([[6.9, 3.1, 5.4, 2.1]], columns=[\n",
    "    \"sepal length (cm)\", \"sepal width (cm)\", \"petal length (cm)\", \"petal width (cm)\"\n",
    "])\n",
    "pred2 = model.predict(X_sample2)\n",
    "print(\"Predicted class for Sample 2:\", class_map[int(pred2[0])])\n"
   ]
  },
  {
   "cell_type": "code",
   "execution_count": 5,
   "id": "8a4355d7-20bc-478a-8532-5e45b2d60064",
   "metadata": {},
   "outputs": [
    {
     "name": "stderr",
     "output_type": "stream",
     "text": [
      "/home/mlops/fashion/venv/lib/python3.12/site-packages/mlflow/store/artifact/utils/models.py:32: FutureWarning: ``mlflow.tracking.client.MlflowClient.get_latest_versions`` is deprecated since 2.9.0. Model registry stages will be removed in a future major release. To learn more about the deprecation of model registry stages, see our migration guide here: https://mlflow.org/docs/2.13.1/model-registry.html#migrating-from-stages\n",
      "  latest = client.get_latest_versions(name, None if stage is None else [stage])\n",
      "2025/07/27 15:21:22 INFO mlflow.pyfunc: To install the dependencies that were used to train the model, run the following command: '%pip install -r /home/mlops/mlruns/4/5c6730a6cc254b39a5f53d08b00359db/artifacts/model/requirements.txt'.\n"
     ]
    },
    {
     "data": {
      "text/plain": [
       "'/home/mlops/mlruns/4/5c6730a6cc254b39a5f53d08b00359db/artifacts/model/requirements.txt'"
      ]
     },
     "execution_count": 5,
     "metadata": {},
     "output_type": "execute_result"
    }
   ],
   "source": [
    "mlflow.pyfunc.get_model_dependencies(\"models:/IrisBestModel/Production\")\n"
   ]
  },
  {
   "cell_type": "code",
   "execution_count": null,
   "id": "c501a04c-54bd-47de-a64c-342c0410a97a",
   "metadata": {},
   "outputs": [],
   "source": []
  }
 ],
 "metadata": {
  "kernelspec": {
   "display_name": "Python (Fashion Project Venv)",
   "language": "python",
   "name": "fashion_venv_kernel"
  },
  "language_info": {
   "codemirror_mode": {
    "name": "ipython",
    "version": 3
   },
   "file_extension": ".py",
   "mimetype": "text/x-python",
   "name": "python",
   "nbconvert_exporter": "python",
   "pygments_lexer": "ipython3",
   "version": "3.12.3"
  }
 },
 "nbformat": 4,
 "nbformat_minor": 5
}
