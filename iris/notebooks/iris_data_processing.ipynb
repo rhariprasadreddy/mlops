{
 "cells": [
  {
   "cell_type": "code",
   "execution_count": 1,
   "id": "de8849ff-6d81-4622-9cda-395a6ae91ef0",
   "metadata": {},
   "outputs": [
    {
     "name": "stdout",
     "output_type": "stream",
     "text": [
      "Raw Iris data shape: (150, 5)\n",
      "✅ Raw data saved to ../data/raw/raw.csv\n",
      "✅ Processed data saved to ../data/processed/\n"
     ]
    }
   ],
   "source": [
    "# Cell 1: Imports\n",
    "import pandas as pd\n",
    "from sklearn.datasets import load_iris\n",
    "from sklearn.model_selection import train_test_split\n",
    "import os\n",
    "\n",
    "# Cell 2: Load raw Iris data\n",
    "iris = load_iris(as_frame=True)\n",
    "df = iris.frame  # Includes features + target\n",
    "print(\"Raw Iris data shape:\", df.shape)\n",
    "\n",
    "# Cell 3: Save raw data\n",
    "raw_dir = \"../data/raw/\"\n",
    "os.makedirs(raw_dir, exist_ok=True)\n",
    "df.to_csv(os.path.join(raw_dir, \"raw.csv\"), index=False)\n",
    "print(f\"✅ Raw data saved to {raw_dir}raw.csv\")\n",
    "\n",
    "# Cell 4: Preprocessing (e.g., rename target)\n",
    "df = df.rename(columns={\"target\": \"label\"})\n",
    "\n",
    "# Cell 5: Split train/test\n",
    "train_df, test_df = train_test_split(df, test_size=0.2, random_state=42, stratify=df[\"label\"])\n",
    "\n",
    "# Cell 6: Save processed data\n",
    "processed_dir = \"../data/processed/\"\n",
    "os.makedirs(processed_dir, exist_ok=True)\n",
    "df.to_csv(os.path.join(processed_dir, \"processed.csv\"), index=False)\n",
    "train_df.to_csv(os.path.join(processed_dir, \"train.csv\"), index=False)\n",
    "test_df.to_csv(os.path.join(processed_dir, \"test.csv\"), index=False)\n",
    "print(f\"✅ Processed data saved to {processed_dir}\")\n"
   ]
  },
  {
   "cell_type": "code",
   "execution_count": null,
   "id": "663eed25-d612-4e77-9708-4502f694a7ff",
   "metadata": {},
   "outputs": [],
   "source": []
  }
 ],
 "metadata": {
  "kernelspec": {
   "display_name": "Python 3 (ipykernel)",
   "language": "python",
   "name": "python3"
  },
  "language_info": {
   "codemirror_mode": {
    "name": "ipython",
    "version": 3
   },
   "file_extension": ".py",
   "mimetype": "text/x-python",
   "name": "python",
   "nbconvert_exporter": "python",
   "pygments_lexer": "ipython3",
   "version": "3.12.3"
  }
 },
 "nbformat": 4,
 "nbformat_minor": 5
}
