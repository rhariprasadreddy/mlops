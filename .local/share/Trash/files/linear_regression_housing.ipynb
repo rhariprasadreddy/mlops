{
 "cells": [
  {
   "cell_type": "code",
   "execution_count": null,
   "id": "5cbf28f5-747a-4a22-a82d-141b0bf295c2",
   "metadata": {},
   "outputs": [],
   "source": [
    "import pandas as pd\n",
    "from sklearn.linear_model import LinearRegression\n",
    "from sklearn.metrics import mean_absolute_error, mean_squared_error, r2_score\n",
    "import mlflow\n",
    "import mlflow.sklearn\n",
    "\n",
    "# === Load Processed Data from DVC-tracked paths ===\n",
    "train_data = pd.read_csv(\"data/processed/train.csv\")\n",
    "test_data = pd.read_csv(\"data/processed/test.csv\")\n",
    "\n",
    "# === Define target column ===\n",
    "target_column = \"median_house_value\"  # Ensure this matches your processed CSVs\n",
    "\n",
    "# === Split features and target ===\n",
    "X_train = train_data.drop(columns=[target_column])\n",
    "y_train = train_data[target_column]\n",
    "X_test = test_data.drop(columns=[target_column])\n",
    "y_test = test_data[target_column]\n",
    "\n",
    "# === MLflow Configuration ===\n",
    "mlflow.set_tracking_uri(\"http://localhost:5000\")\n",
    "mlflow.set_experiment(\"Housing-LinearRegression\")\n",
    "\n",
    "# === Start MLflow Run ===\n",
    "with mlflow.start_run():\n",
    "    model = LinearRegression()\n",
    "    model.fit(X_train, y_train)\n",
    "    y_pred = model.predict(X_test)\n",
    "\n",
    "    # Evaluation\n",
    "    mae = mean_absolute_error(y_test, y_pred)\n",
    "    mse = mean_squared_error(y_test, y_pred)\n",
    "    r2 = r2_score(y_test, y_pred)\n",
    "\n",
    "    # Log params and metrics\n",
    "    mlflow.log_param(\"model_type\", \"LinearRegression\")\n",
    "    mlflow.log_metric(\"MAE\", mae)\n",
    "    mlflow.log_metric(\"MSE\", mse)\n",
    "    mlflow.log_metric(\"R2\", r2)\n",
    "\n",
    "    # Log model\n",
    "    mlflow.sklearn.log_model(model, artifact_path=\"model\")\n",
    "\n",
    "    print(f\"✅ Model logged to MLflow with R2 score: {r2:.4f}\")\n"
   ]
  }
 ],
 "metadata": {
  "kernelspec": {
   "display_name": "Python (Fashion Project Venv)",
   "language": "python",
   "name": "fashion_venv_kernel"
  },
  "language_info": {
   "codemirror_mode": {
    "name": "ipython",
    "version": 3
   },
   "file_extension": ".py",
   "mimetype": "text/x-python",
   "name": "python",
   "nbconvert_exporter": "python",
   "pygments_lexer": "ipython3",
   "version": "3.12.3"
  }
 },
 "nbformat": 4,
 "nbformat_minor": 5
}
