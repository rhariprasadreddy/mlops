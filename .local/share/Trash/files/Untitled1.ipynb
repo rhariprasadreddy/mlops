{
 "cells": [
  {
   "cell_type": "code",
   "execution_count": null,
   "id": "edd429c7-bbe5-4792-9ff6-af8d26d1eff7",
   "metadata": {},
   "outputs": [],
   "source": [
    "import pandas as pd\n",
    "import mlflow\n",
    "import mlflow.sklearn\n",
    "from sklearn.linear_model import LogisticRegression\n",
    "from sklearn.metrics import accuracy_score, classification_report\n",
    "import os\n",
    "\n",
    "# Define MLflow experiment\n",
    "mlflow.set_tracking_uri(\"http://localhost:5000\")\n",
    "mlflow.set_experiment(\"Iris-Models\")\n"
   ]
  },
  {
   "cell_type": "code",
   "execution_count": null,
   "id": "0c107239-9ebf-406f-9d3c-9eade5728a63",
   "metadata": {},
   "outputs": [],
   "source": [
    "train_df = pd.read_csv(\"../data/processed/train.csv\")\n",
    "test_df = pd.read_csv(\"../data/processed/test.csv\")\n",
    "\n",
    "X_train = train_df.drop(columns=[\"label\"])\n",
    "y_train = train_df[\"label\"]\n",
    "X_test = test_df.drop(columns=[\"label\"])\n",
    "y_test = test_df[\"label\"]\n"
   ]
  },
  {
   "cell_type": "code",
   "execution_count": null,
   "id": "8ab67ce4-fdb6-4de1-bed4-8f5a266ef271",
   "metadata": {},
   "outputs": [],
   "source": [
    "with mlflow.start_run(run_name=\"LogisticRegression_Iris\"):\n",
    "    # Params\n",
    "    params = {\"C\": 1.0, \"max_iter\": 100}\n",
    "    model = LogisticRegression(**params)\n",
    "    model.fit(X_train, y_train)\n",
    "\n",
    "    # Predict\n",
    "    preds = model.predict(X_test)\n",
    "    acc = accuracy_score(y_test, preds)\n",
    "\n",
    "    # Log params and metrics\n",
    "    mlflow.log_params(params)\n",
    "    mlflow.log_metric(\"accuracy\", acc)\n",
    "\n",
    "    # Log model\n",
    "    mlflow.sklearn.log_model(model, \"model\")\n",
    "\n",
    "    print(\"✅ Accuracy:\", acc)\n"
   ]
  },
  {
   "cell_type": "code",
   "execution_count": null,
   "id": "1ea49eeb-68c2-488f-9f4e-7cd5557f96cd",
   "metadata": {},
   "outputs": [],
   "source": []
  }
 ],
 "metadata": {
  "kernelspec": {
   "display_name": "Python 3 (ipykernel)",
   "language": "python",
   "name": "python3"
  },
  "language_info": {
   "codemirror_mode": {
    "name": "ipython",
    "version": 3
   },
   "file_extension": ".py",
   "mimetype": "text/x-python",
   "name": "python",
   "nbconvert_exporter": "python",
   "pygments_lexer": "ipython3",
   "version": "3.12.3"
  }
 },
 "nbformat": 4,
 "nbformat_minor": 5
}
