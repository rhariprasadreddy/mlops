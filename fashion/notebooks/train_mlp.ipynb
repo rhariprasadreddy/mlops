{
 "cells": [
  {
   "cell_type": "code",
   "execution_count": 1,
   "id": "8d9275a9-8ac4-494c-bd6d-f2504e11934f",
   "metadata": {},
   "outputs": [
    {
     "name": "stderr",
     "output_type": "stream",
     "text": [
      "/home/mlops/fashion/venv/lib/python3.12/site-packages/mlflow/utils/requirements_utils.py:20: UserWarning: pkg_resources is deprecated as an API. See https://setuptools.pypa.io/en/latest/pkg_resources.html. The pkg_resources package is slated for removal as early as 2025-11-30. Refrain from using this package or pin to Setuptools<81.\n",
      "  import pkg_resources  # noqa: TID251\n"
     ]
    }
   ],
   "source": [
    "import torch\n",
    "import torch.nn as nn\n",
    "import torch.optim as optim\n",
    "from torchvision import datasets, transforms\n",
    "import torch.utils.data as data\n",
    "import mlflow\n",
    "import mlflow.pytorch\n",
    "import mlflow.models.signature\n",
    "import numpy as np\n",
    "from mlflow.models.signature import infer_signature\n",
    "import os\n"
   ]
  },
  {
   "cell_type": "code",
   "execution_count": 2,
   "id": "3d4cb40e-be74-4190-b9a3-7bc520276930",
   "metadata": {},
   "outputs": [
    {
     "data": {
      "text/plain": [
       "<Experiment: artifact_location='file:///home/mlops/mlruns/3', creation_time=1753495053836, experiment_id='3', last_update_time=1753495053836, lifecycle_stage='active', name='FashionMNIST-MLP', tags={}>"
      ]
     },
     "execution_count": 2,
     "metadata": {},
     "output_type": "execute_result"
    }
   ],
   "source": [
    "mlflow.set_tracking_uri(\"http://localhost:5000\")  # Use this since file-based didn’t work\n",
    "mlflow.set_experiment(\"FashionMNIST-MLP\")\n"
   ]
  },
  {
   "cell_type": "code",
   "execution_count": 3,
   "id": "55764aeb-e9b5-4aec-b99b-c9c0bf4de50c",
   "metadata": {},
   "outputs": [],
   "source": [
    "params = {\n",
    "    \"learning_rate\": 0.001,\n",
    "    \"batch_size\": 64,\n",
    "    \"epochs\": 5,\n",
    "    \"hidden_size\": 128\n",
    "}\n"
   ]
  },
  {
   "cell_type": "code",
   "execution_count": 4,
   "id": "206bfa62-dc6d-4986-9965-c1114e79dd9c",
   "metadata": {},
   "outputs": [],
   "source": [
    "transform = transforms.Compose([\n",
    "    transforms.ToTensor(),\n",
    "    transforms.Normalize((0.5,), (0.5,))\n",
    "])\n",
    "\n",
    "train_dataset = datasets.FashionMNIST(root=\"./data\", train=True, download=True, transform=transform)\n",
    "test_dataset = datasets.FashionMNIST(root=\"./data\", train=False, download=True, transform=transform)\n",
    "\n",
    "train_loader = data.DataLoader(train_dataset, batch_size=params[\"batch_size\"], shuffle=True)\n",
    "test_loader = data.DataLoader(test_dataset, batch_size=params[\"batch_size\"], shuffle=False)\n"
   ]
  },
  {
   "cell_type": "code",
   "execution_count": 5,
   "id": "6837a538-8bb3-47ff-a807-a665356329a0",
   "metadata": {},
   "outputs": [],
   "source": [
    "class MLP(nn.Module):\n",
    "    def __init__(self, hidden_size):\n",
    "        super(MLP, self).__init__()\n",
    "        self.model = nn.Sequential(\n",
    "            nn.Flatten(),\n",
    "            nn.Linear(28*28, hidden_size),\n",
    "            nn.ReLU(),\n",
    "            nn.Linear(hidden_size, 10)\n",
    "        )\n",
    "\n",
    "    def forward(self, x):\n",
    "        return self.model(x)\n"
   ]
  },
  {
   "cell_type": "code",
   "execution_count": 6,
   "id": "66571bf3-c19d-4eeb-8373-5dc0b8e64085",
   "metadata": {},
   "outputs": [],
   "source": [
    "def train(model, epochs, optimizer, train_loader):\n",
    "    criterion = nn.CrossEntropyLoss()\n",
    "    model.train()\n",
    "    train_losses = []\n",
    "\n",
    "    for epoch in range(epochs):\n",
    "        total_loss = 0\n",
    "        correct = 0\n",
    "        total = 0\n",
    "\n",
    "        for x, y in train_loader:\n",
    "            optimizer.zero_grad()\n",
    "            output = model(x)\n",
    "            loss = criterion(output, y)\n",
    "            loss.backward()\n",
    "            optimizer.step()\n",
    "\n",
    "            total_loss += loss.item()\n",
    "            _, predicted = torch.max(output.data, 1)\n",
    "            total += y.size(0)\n",
    "            correct += (predicted == y).sum().item()\n",
    "\n",
    "        avg_loss = total_loss / len(train_loader)\n",
    "        accuracy = correct / total\n",
    "\n",
    "        train_losses.append(avg_loss)\n",
    "\n",
    "        mlflow.log_metric(\"train_loss\", avg_loss, step=epoch)\n",
    "        mlflow.log_metric(\"train_accuracy\", accuracy, step=epoch)\n",
    "        print(f\"Epoch {epoch+1}: Loss={avg_loss:.4f}, Accuracy={accuracy:.4f}\")\n",
    "\n",
    "    return model, train_losses\n"
   ]
  },
  {
   "cell_type": "code",
   "execution_count": 7,
   "id": "7fc6ab8a-af1d-4cfa-bb37-dc492991d9ca",
   "metadata": {},
   "outputs": [],
   "source": [
    "def evaluate(model, test_loader):\n",
    "    model.eval()\n",
    "    correct = 0\n",
    "    total = 0\n",
    "    with torch.no_grad():\n",
    "        for x, y in test_loader:\n",
    "            output = model(x)\n",
    "            _, predicted = torch.max(output.data, 1)\n",
    "            total += y.size(0)\n",
    "            correct += (predicted == y).sum().item()\n",
    "\n",
    "    return correct / total\n"
   ]
  },
  {
   "cell_type": "code",
   "execution_count": 8,
   "id": "8e25ed08-f607-4dee-861f-5e3c47baebe8",
   "metadata": {},
   "outputs": [
    {
     "name": "stdout",
     "output_type": "stream",
     "text": [
      "Epoch 1: Loss=0.5006, Accuracy=0.8204\n",
      "Epoch 2: Loss=0.3772, Accuracy=0.8632\n",
      "Epoch 3: Loss=0.3420, Accuracy=0.8743\n",
      "Epoch 4: Loss=0.3152, Accuracy=0.8840\n",
      "Epoch 5: Loss=0.2984, Accuracy=0.8905\n"
     ]
    },
    {
     "name": "stderr",
     "output_type": "stream",
     "text": [
      "2025/07/26 10:01:58 WARNING mlflow.utils.requirements_utils: Found torch version (2.5.0+cpu) contains a local version label (+cpu). MLflow logged a pip requirement for this package as 'torch==2.5.0' without the local version label to make it installable from PyPI. To specify pip requirements containing local version labels, please use `conda_env` or `pip_requirements`.\n",
      "2025/07/26 10:02:01 WARNING mlflow.utils.requirements_utils: Found torch version (2.5.0+cpu) contains a local version label (+cpu). MLflow logged a pip requirement for this package as 'torch==2.5.0' without the local version label to make it installable from PyPI. To specify pip requirements containing local version labels, please use `conda_env` or `pip_requirements`.\n"
     ]
    },
    {
     "name": "stdout",
     "output_type": "stream",
     "text": [
      "✅ Test Accuracy: 0.8742\n"
     ]
    }
   ],
   "source": [
    "with mlflow.start_run(run_name=\"MLP_Fashion\"):\n",
    "    for k, v in params.items():\n",
    "        mlflow.log_param(k, v)\n",
    "\n",
    "    model = MLP(params[\"hidden_size\"])\n",
    "    optimizer = optim.Adam(model.parameters(), lr=params[\"learning_rate\"])\n",
    "\n",
    "    model, train_losses = train(model, params[\"epochs\"], optimizer, train_loader)\n",
    "\n",
    "    test_accuracy = evaluate(model, test_loader)\n",
    "    mlflow.log_metric(\"test_accuracy\", test_accuracy)\n",
    "\n",
    "    # Dummy input/output for signature\n",
    "    dummy_input = torch.randn(1, 1, 28, 28)\n",
    "    model.eval()\n",
    "    with torch.no_grad():\n",
    "        dummy_output = model(dummy_input)\n",
    "\n",
    "    signature = infer_signature(dummy_input.cpu().numpy(), dummy_output.cpu().numpy())\n",
    "\n",
    "    mlflow.pytorch.log_model(\n",
    "        model, artifact_path=\"model\", signature=signature\n",
    "    )\n",
    "\n",
    "    print(f\"✅ Test Accuracy: {test_accuracy:.4f}\")\n"
   ]
  },
  {
   "cell_type": "code",
   "execution_count": null,
   "id": "790824bd-1f1b-4e81-8aba-6b55a8801723",
   "metadata": {},
   "outputs": [],
   "source": []
  },
  {
   "cell_type": "code",
   "execution_count": null,
   "id": "4d8dc065-d6ac-47ff-a660-3bafcfe6a2b8",
   "metadata": {},
   "outputs": [],
   "source": []
  }
 ],
 "metadata": {
  "kernelspec": {
   "display_name": "Python 3 (ipykernel)",
   "language": "python",
   "name": "python3"
  },
  "language_info": {
   "codemirror_mode": {
    "name": "ipython",
    "version": 3
   },
   "file_extension": ".py",
   "mimetype": "text/x-python",
   "name": "python",
   "nbconvert_exporter": "python",
   "pygments_lexer": "ipython3",
   "version": "3.12.3"
  }
 },
 "nbformat": 4,
 "nbformat_minor": 5
}
