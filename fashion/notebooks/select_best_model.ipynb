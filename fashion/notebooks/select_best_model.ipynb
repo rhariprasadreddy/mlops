{
 "cells": [
  {
   "cell_type": "code",
   "execution_count": 1,
   "id": "3c8c2e3f-7c94-440f-86ef-c21e41e9fb61",
   "metadata": {},
   "outputs": [
    {
     "name": "stderr",
     "output_type": "stream",
     "text": [
      "/home/mlops/fashion/venv/lib/python3.12/site-packages/mlflow/utils/requirements_utils.py:20: UserWarning: pkg_resources is deprecated as an API. See https://setuptools.pypa.io/en/latest/pkg_resources.html. The pkg_resources package is slated for removal as early as 2025-11-30. Refrain from using this package or pin to Setuptools<81.\n",
      "  import pkg_resources  # noqa: TID251\n"
     ]
    },
    {
     "name": "stdout",
     "output_type": "stream",
     "text": [
      "Tracking URI: http://localhost:5000\n"
     ]
    }
   ],
   "source": [
    "# select_best_model.ipynb\n",
    "\n",
    "import mlflow\n",
    "import mlflow.pytorch\n",
    "from mlflow.tracking import MlflowClient\n",
    "import pandas as pd\n",
    "import torch\n",
    "from torchvision import datasets, transforms\n",
    "import os\n",
    "\n",
    "# Step 1: Set tracking URI and define experiment names\n",
    "mlflow.set_tracking_uri(\"http://localhost:5000\")\n",
    "print(\"Tracking URI:\", mlflow.get_tracking_uri())\n",
    "\n",
    "# The names of your experiments\n",
    "experiments = [\"FashionMNIST-MLP\", \"FashionMNIST-CNN\"]\n",
    "\n",
    "# Step 2: Find the best run across specified experiments\n",
    "all_runs_data = []\n",
    "client = MlflowClient()\n",
    "\n",
    "for exp_name in experiments:\n",
    "    exp = client.get_experiment_by_name(exp_name)\n",
    "    if exp:\n",
    "        # Search for runs, ordering by 'test_accuracy' in descending order\n",
    "        runs = client.search_runs(\n",
    "            experiment_ids=[exp.experiment_id],\n",
    "            order_by=[\"metrics.test_accuracy DESC\"]\n",
    "        )\n",
    "        for run in runs:\n",
    "            if \"test_accuracy\" in run.data.metrics:\n",
    "                all_runs_data.append({\n",
    "                    \"run_id\": run.info.run_id,\n",
    "                    \"experiment_name\": exp_name,\n",
    "                    \"test_accuracy\": run.data.metrics[\"test_accuracy\"],\n",
    "                    \"artifact_uri\": run.info.artifact_uri\n",
    "                })\n",
    "    else:\n",
    "        print(f\"Warning: Experiment '{exp_name}' not found. Skipping.\")\n"
   ]
  },
  {
   "cell_type": "code",
   "execution_count": 2,
   "id": "d0cb6df5-b074-4d6c-a835-14f76f3998a5",
   "metadata": {},
   "outputs": [
    {
     "name": "stderr",
     "output_type": "stream",
     "text": [
      "Registered model 'FashionMNIST-BestModel' already exists. Creating a new version of this model...\n",
      "2025/07/26 10:20:24 INFO mlflow.store.model_registry.abstract_store: Waiting up to 300 seconds for model version to finish creation. Model name: FashionMNIST-BestModel, version 1\n"
     ]
    },
    {
     "name": "stdout",
     "output_type": "stream",
     "text": [
      "✅ Best model found from experiment: FashionMNIST-CNN\n",
      "🔖 Best Run ID: 9166d159b653492f94e82121918e684f\n",
      "🎯 Best Test Accuracy: 0.9103\n",
      "📦 Model Artifact URI for registration: runs:/9166d159b653492f94e82121918e684f/model\n",
      "📥 Registered new model version: 1\n",
      "🚀 Promoted version 1 of FashionMNIST-BestModel to Production.\n"
     ]
    },
    {
     "name": "stderr",
     "output_type": "stream",
     "text": [
      "Created version '1' of model 'FashionMNIST-BestModel'.\n",
      "/tmp/ipykernel_2046859/1875805677.py:28: FutureWarning: ``mlflow.tracking.client.MlflowClient.transition_model_version_stage`` is deprecated since 2.9.0. Model registry stages will be removed in a future major release. To learn more about the deprecation of model registry stages, see our migration guide here: https://mlflow.org/docs/2.13.1/model-registry.html#migrating-from-stages\n",
      "  client.transition_model_version_stage(\n"
     ]
    }
   ],
   "source": [
    "# Step 3: Convert runs to DataFrame and select best\n",
    "df = pd.DataFrame(all_runs_data)\n",
    "if df.empty:\n",
    "    raise ValueError(\"No runs with 'test_accuracy' found in specified experiments.\")\n",
    "\n",
    "best_run = df.sort_values(\"test_accuracy\", ascending=False).iloc[0]\n",
    "print(f\"✅ Best model found from experiment: {best_run['experiment_name']}\")\n",
    "print(f\"🔖 Best Run ID: {best_run['run_id']}\")\n",
    "print(f\"🎯 Best Test Accuracy: {best_run['test_accuracy']:.4f}\")\n",
    "print(f\"📦 Model Artifact URI for registration: runs:/{best_run['run_id']}/model\")\n",
    "\n",
    "# Step 4: Register and promote the best model\n",
    "model_name = \"FashionMNIST-BestModel\"\n",
    "model_uri = f\"runs:/{best_run['run_id']}/model\"\n",
    "\n",
    "try:\n",
    "    # Check if model already exists\n",
    "    try:\n",
    "        client.get_registered_model(model_name)\n",
    "    except Exception:\n",
    "        client.create_registered_model(model_name)\n",
    "\n",
    "    # Register new version\n",
    "    result = mlflow.register_model(model_uri=model_uri, name=model_name)\n",
    "    print(f\"📥 Registered new model version: {result.version}\")\n",
    "\n",
    "    # Promote to Production (overwrite existing if any)\n",
    "    client.transition_model_version_stage(\n",
    "        name=model_name,\n",
    "        version=result.version,\n",
    "        stage=\"Production\",\n",
    "        archive_existing_versions=True\n",
    "    )\n",
    "    print(f\"🚀 Promoted version {result.version} of {model_name} to Production.\")\n",
    "\n",
    "except Exception as e:\n",
    "    print(\"Error during model registration or promotion:\", e)\n"
   ]
  },
  {
   "cell_type": "code",
   "execution_count": 3,
   "id": "58e178e9-0497-4535-a6ba-1c9acf0de1a6",
   "metadata": {},
   "outputs": [
    {
     "name": "stderr",
     "output_type": "stream",
     "text": [
      "/home/mlops/fashion/venv/lib/python3.12/site-packages/mlflow/store/artifact/utils/models.py:32: FutureWarning: ``mlflow.tracking.client.MlflowClient.get_latest_versions`` is deprecated since 2.9.0. Model registry stages will be removed in a future major release. To learn more about the deprecation of model registry stages, see our migration guide here: https://mlflow.org/docs/2.13.1/model-registry.html#migrating-from-stages\n",
      "  latest = client.get_latest_versions(name, None if stage is None else [stage])\n"
     ]
    },
    {
     "name": "stdout",
     "output_type": "stream",
     "text": [
      "✅ Loaded model from URI: models:/FashionMNIST-BestModel/Production\n",
      "👕 True label: 5, 🔍 Predicted: 5\n"
     ]
    }
   ],
   "source": [
    "from torchvision import datasets, transforms\n",
    "from torch.utils.data import DataLoader\n",
    "import torch.nn.functional as F\n",
    "\n",
    "# Step 5: Load production model\n",
    "try:\n",
    "    prod_model_uri = f\"models:/{model_name}/Production\"\n",
    "    model = mlflow.pytorch.load_model(prod_model_uri)\n",
    "    model.eval()\n",
    "    print(f\"✅ Loaded model from URI: {prod_model_uri}\")\n",
    "except Exception as e:\n",
    "    print(f\"❌ Error loading production model or performing inference: {e}\")\n",
    "    raise\n",
    "\n",
    "# Step 6: Run inference on 1 batch of test data\n",
    "transform = transforms.Compose([\n",
    "    transforms.ToTensor(),\n",
    "    transforms.Normalize((0.5,), (0.5,))\n",
    "])\n",
    "\n",
    "test_dataset = datasets.FashionMNIST(root=\"./data\", train=False, transform=transform, download=True)\n",
    "test_loader = DataLoader(test_dataset, batch_size=1, shuffle=True)\n",
    "\n",
    "sample = next(iter(test_loader))\n",
    "x, y_true = sample\n",
    "with torch.no_grad():\n",
    "    logits = model(x)\n",
    "    probs = F.softmax(logits, dim=1)\n",
    "    pred_class = torch.argmax(probs, dim=1)\n",
    "\n",
    "print(f\"👕 True label: {y_true.item()}, 🔍 Predicted: {pred_class.item()}\")\n"
   ]
  },
  {
   "cell_type": "code",
   "execution_count": null,
   "id": "5ae6670f-6331-4e19-be14-0a7504837eb1",
   "metadata": {},
   "outputs": [],
   "source": []
  }
 ],
 "metadata": {
  "kernelspec": {
   "display_name": "Python 3 (ipykernel)",
   "language": "python",
   "name": "python3"
  },
  "language_info": {
   "codemirror_mode": {
    "name": "ipython",
    "version": 3
   },
   "file_extension": ".py",
   "mimetype": "text/x-python",
   "name": "python",
   "nbconvert_exporter": "python",
   "pygments_lexer": "ipython3",
   "version": "3.12.3"
  }
 },
 "nbformat": 4,
 "nbformat_minor": 5
}
