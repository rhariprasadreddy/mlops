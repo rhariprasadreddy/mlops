{
 "cells": [
  {
   "cell_type": "code",
   "execution_count": 1,
   "id": "a14cef00-6872-453e-9f31-d0b810b34477",
   "metadata": {},
   "outputs": [
    {
     "name": "stderr",
     "output_type": "stream",
     "text": [
      "/home/mlops/fashion/venv/lib/python3.12/site-packages/mlflow/utils/requirements_utils.py:20: UserWarning: pkg_resources is deprecated as an API. See https://setuptools.pypa.io/en/latest/pkg_resources.html. The pkg_resources package is slated for removal as early as 2025-11-30. Refrain from using this package or pin to Setuptools<81.\n",
      "  import pkg_resources  # noqa: TID251\n"
     ]
    },
    {
     "name": "stdout",
     "output_type": "stream",
     "text": [
      "2.13.1\n"
     ]
    }
   ],
   "source": [
    "import mlflow\n",
    "print(mlflow.__version__)\n"
   ]
  },
  {
   "cell_type": "code",
   "execution_count": 2,
   "id": "fc936317-1a40-4444-b7d1-5f566288c052",
   "metadata": {},
   "outputs": [
    {
     "name": "stdout",
     "output_type": "stream",
     "text": [
      "✅ Created new experiment: test-hari\n",
      "🧪 Experiment ID: 1\n"
     ]
    }
   ],
   "source": [
    "import mlflow\n",
    "\n",
    "# Set the tracking URI to match your running MLflow server\n",
    "mlflow.set_tracking_uri(\"http://localhost:5000\")  # or \"http://<server-ip>:5000\"\n",
    "\n",
    "# Define experiment name\n",
    "experiment_name = \"test-hari\"\n",
    "\n",
    "# Create experiment if it doesn't exist\n",
    "if not mlflow.get_experiment_by_name(experiment_name):\n",
    "    experiment_id = mlflow.create_experiment(experiment_name)\n",
    "    print(f\"✅ Created new experiment: {experiment_name}\")\n",
    "else:\n",
    "    experiment_id = mlflow.get_experiment_by_name(experiment_name).experiment_id\n",
    "    print(f\"ℹ️ Experiment already exists: {experiment_name}\")\n",
    "\n",
    "print(f\"🧪 Experiment ID: {experiment_id}\")\n"
   ]
  },
  {
   "cell_type": "code",
   "execution_count": 3,
   "id": "0cdeec14-30e4-45c4-a591-f97dff5fa14f",
   "metadata": {},
   "outputs": [
    {
     "name": "stdout",
     "output_type": "stream",
     "text": [
      "🗑️ Deleted experiment 'test-hari' (ID: 1)\n"
     ]
    }
   ],
   "source": [
    "import mlflow\n",
    "\n",
    "client = mlflow.tracking.MlflowClient()\n",
    "\n",
    "# Replace with your experiment name\n",
    "experiment_name = \"test-hari\"\n",
    "\n",
    "# Get the experiment by name\n",
    "experiment = client.get_experiment_by_name(experiment_name)\n",
    "\n",
    "if experiment is not None:\n",
    "    client.delete_experiment(experiment.experiment_id)\n",
    "    print(f\"🗑️ Deleted experiment '{experiment_name}' (ID: {experiment.experiment_id})\")\n",
    "else:\n",
    "    print(f\"❌ Experiment '{experiment_name}' not found.\")\n"
   ]
  },
  {
   "cell_type": "code",
   "execution_count": null,
   "id": "a1f56c92-9456-4bee-a614-d8fcc9745544",
   "metadata": {},
   "outputs": [],
   "source": []
  }
 ],
 "metadata": {
  "kernelspec": {
   "display_name": "Python 3 (ipykernel)",
   "language": "python",
   "name": "python3"
  },
  "language_info": {
   "codemirror_mode": {
    "name": "ipython",
    "version": 3
   },
   "file_extension": ".py",
   "mimetype": "text/x-python",
   "name": "python",
   "nbconvert_exporter": "python",
   "pygments_lexer": "ipython3",
   "version": "3.12.3"
  }
 },
 "nbformat": 4,
 "nbformat_minor": 5
}
