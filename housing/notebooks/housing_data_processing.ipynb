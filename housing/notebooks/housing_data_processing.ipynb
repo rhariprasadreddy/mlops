{
 "cells": [
  {
   "cell_type": "code",
   "execution_count": 1,
   "id": "48e463cd-ad2d-45a9-b078-90a677293e7e",
   "metadata": {},
   "outputs": [
    {
     "name": "stdout",
     "output_type": "stream",
     "text": [
      "✅ Raw Housing Data Shape: (20640, 9)\n",
      "✅ Raw data saved to ../data/raw/raw.csv\n",
      "✅ Train/Test split: (16512, 9) (4128, 9)\n",
      "✅ Processed data saved to ../data/processed/\n"
     ]
    }
   ],
   "source": [
    "# Cell 1: Imports\n",
    "import pandas as pd\n",
    "from sklearn.datasets import fetch_california_housing\n",
    "from sklearn.model_selection import train_test_split\n",
    "import os\n",
    "\n",
    "# Cell 2: Load California Housing Data\n",
    "housing = fetch_california_housing(as_frame=True)\n",
    "df = housing.frame\n",
    "print(\"✅ Raw Housing Data Shape:\", df.shape)\n",
    "\n",
    "# Cell 3: Save Raw Data\n",
    "raw_dir = \"../data/raw/\"\n",
    "os.makedirs(raw_dir, exist_ok=True)\n",
    "df.to_csv(os.path.join(raw_dir, \"raw.csv\"), index=False)\n",
    "print(f\"✅ Raw data saved to {raw_dir}raw.csv\")\n",
    "\n",
    "# Cell 4: Preprocessing (if needed)\n",
    "# Here we proceed with default features + target; you can add scaling later in training\n",
    "# Optionally rename columns or apply any cleaning here\n",
    "\n",
    "# Cell 5: Split Train/Test\n",
    "train_df, test_df = train_test_split(df, test_size=0.2, random_state=42)\n",
    "print(\"✅ Train/Test split:\", train_df.shape, test_df.shape)\n",
    "\n",
    "# Cell 6: Save Processed Data\n",
    "processed_dir = \"../data/processed/\"\n",
    "os.makedirs(processed_dir, exist_ok=True)\n",
    "\n",
    "train_df.to_csv(os.path.join(processed_dir, \"train.csv\"), index=False)\n",
    "test_df.to_csv(os.path.join(processed_dir, \"test.csv\"), index=False)\n",
    "print(f\"✅ Processed data saved to {processed_dir}\")\n"
   ]
  },
  {
   "cell_type": "code",
   "execution_count": null,
   "id": "95a76cd5-99f2-4b28-9878-cc055a299237",
   "metadata": {},
   "outputs": [],
   "source": []
  }
 ],
 "metadata": {
  "kernelspec": {
   "display_name": "Python (Fashion Project Venv)",
   "language": "python",
   "name": "fashion_venv_kernel"
  },
  "language_info": {
   "codemirror_mode": {
    "name": "ipython",
    "version": 3
   },
   "file_extension": ".py",
   "mimetype": "text/x-python",
   "name": "python",
   "nbconvert_exporter": "python",
   "pygments_lexer": "ipython3",
   "version": "3.12.3"
  }
 },
 "nbformat": 4,
 "nbformat_minor": 5
}
