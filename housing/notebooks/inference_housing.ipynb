{
 "cells": [
  {
   "cell_type": "code",
   "execution_count": 2,
   "id": "4946b32d-50e1-486c-affa-b3b64f595fb4",
   "metadata": {},
   "outputs": [
    {
     "name": "stdout",
     "output_type": "stream",
     "text": [
      "🏠 Predicted Median House Value: 1.92\n"
     ]
    },
    {
     "name": "stderr",
     "output_type": "stream",
     "text": [
      "/home/mlops/fashion/venv/lib/python3.12/site-packages/mlflow/store/artifact/utils/models.py:32: FutureWarning: ``mlflow.tracking.client.MlflowClient.get_latest_versions`` is deprecated since 2.9.0. Model registry stages will be removed in a future major release. To learn more about the deprecation of model registry stages, see our migration guide here: https://mlflow.org/docs/2.13.1/model-registry.html#migrating-from-stages\n",
      "  latest = client.get_latest_versions(name, None if stage is None else [stage])\n"
     ]
    }
   ],
   "source": [
    "import pandas as pd\n",
    "import mlflow\n",
    "\n",
    "# Set the MLflow Tracking URI\n",
    "mlflow.set_tracking_uri(\"http://localhost:5000\")\n",
    "\n",
    "# Load model from registry using alias\n",
    "model = mlflow.pyfunc.load_model(\"models:/HousingBestModel/Production\")\n",
    "\n",
    "# ✅ Hardcoded input matching training features exactly\n",
    "input_data = {\n",
    "    \"MedInc\": [4.2],\n",
    "    \"HouseAge\": [30.0],\n",
    "    \"AveRooms\": [6.0],\n",
    "    \"AveBedrms\": [1.1],\n",
    "    \"Population\": [980.0],\n",
    "    \"AveOccup\": [3.0],\n",
    "    \"Latitude\": [37.45],\n",
    "    \"Longitude\": [-122.1]\n",
    "}\n",
    "input_df = pd.DataFrame(input_data)\n",
    "\n",
    "# Predict\n",
    "prediction = model.predict(input_df)\n",
    "print(f\"🏠 Predicted Median House Value: {prediction[0]:.2f}\")\n"
   ]
  },
  {
   "cell_type": "code",
   "execution_count": null,
   "id": "8e672cf5-d196-44ac-9ab2-5c1e1060e4ec",
   "metadata": {},
   "outputs": [],
   "source": []
  }
 ],
 "metadata": {
  "kernelspec": {
   "display_name": "Python (Fashion Project Venv)",
   "language": "python",
   "name": "fashion_venv_kernel"
  },
  "language_info": {
   "codemirror_mode": {
    "name": "ipython",
    "version": 3
   },
   "file_extension": ".py",
   "mimetype": "text/x-python",
   "name": "python",
   "nbconvert_exporter": "python",
   "pygments_lexer": "ipython3",
   "version": "3.12.3"
  }
 },
 "nbformat": 4,
 "nbformat_minor": 5
}
