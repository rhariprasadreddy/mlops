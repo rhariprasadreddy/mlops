{
 "cells": [
  {
   "cell_type": "code",
   "execution_count": null,
   "id": "9e27c17c-bed5-4b37-a9a8-2fcd96141c75",
   "metadata": {},
   "outputs": [],
   "source": [
    "import mlflow\n",
    "import pandas as pd\n",
    "\n",
    "# Sample input (you can change this for real inference)\n",
    "input_data = {\n",
    "    \"longitude\": [-122.23],\n",
    "    \"latitude\": [37.88],\n",
    "    \"housing_median_age\": [41],\n",
    "    \"total_rooms\": [880],\n",
    "    \"total_bedrooms\": [129],\n",
    "    \"population\": [322],\n",
    "    \"households\": [126],\n",
    "    \"median_income\": [8.3252],\n",
    "}\n",
    "\n",
    "input_df = pd.DataFrame(input_data)\n",
    "\n",
    "# Load model from Production stage\n",
    "model = mlflow.pyfunc.load_model(\"models:/HousingBestModel/Production\")\n",
    "\n",
    "# Predict\n",
    "prediction = model.predict(input_df)\n",
    "print(f\"🏠 Predicted Median House Value: {prediction[0]}\")\n"
   ]
  }
 ],
 "metadata": {
  "kernelspec": {
   "display_name": "Python (Fashion Project Venv)",
   "language": "python",
   "name": "fashion_venv_kernel"
  },
  "language_info": {
   "codemirror_mode": {
    "name": "ipython",
    "version": 3
   },
   "file_extension": ".py",
   "mimetype": "text/x-python",
   "name": "python",
   "nbconvert_exporter": "python",
   "pygments_lexer": "ipython3",
   "version": "3.12.3"
  }
 },
 "nbformat": 4,
 "nbformat_minor": 5
}
