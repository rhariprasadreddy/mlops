{
 "cells": [
  {
   "cell_type": "code",
   "execution_count": 1,
   "id": "09728a53-b053-4ede-aa01-242c02ad53fc",
   "metadata": {},
   "outputs": [
    {
     "name": "stderr",
     "output_type": "stream",
     "text": [
      "/home/mlops/fashion/venv/lib/python3.12/site-packages/mlflow/utils/requirements_utils.py:20: UserWarning: pkg_resources is deprecated as an API. See https://setuptools.pypa.io/en/latest/pkg_resources.html. The pkg_resources package is slated for removal as early as 2025-11-30. Refrain from using this package or pin to Setuptools<81.\n",
      "  import pkg_resources  # noqa: TID251\n"
     ]
    },
    {
     "name": "stdout",
     "output_type": "stream",
     "text": [
      "📁 6 — housing-DecisionTree\n",
      "📁 5 — Housing-LinearRegression\n",
      "📁 4 — Iris-Models\n",
      "📁 3 — FashionMNIST-MLP\n",
      "📁 2 — FashionMNIST-CNN\n",
      "📁 0 — Default\n"
     ]
    }
   ],
   "source": [
    "import mlflow\n",
    "from mlflow.tracking import MlflowClient\n",
    "\n",
    "# Set this to match what your MLflow UI is using (adjust if needed)\n",
    "mlflow.set_tracking_uri(\"http://localhost:5000\")  # assuming UI is served here\n",
    "\n",
    "client = MlflowClient()\n",
    "\n",
    "experiments = client.search_experiments()\n",
    "\n",
    "for exp in experiments:\n",
    "    print(f\"📁 {exp.experiment_id} — {exp.name}\")\n",
    "\n"
   ]
  },
  {
   "cell_type": "code",
   "execution_count": 2,
   "id": "ad9b43b4-0f44-4aaf-9488-7ebca6d5a7ef",
   "metadata": {},
   "outputs": [
    {
     "name": "stdout",
     "output_type": "stream",
     "text": [
      "✅ Best Housing model: housing-DecisionTree (R²: 0.5997)\n"
     ]
    }
   ],
   "source": [
    "import mlflow\n",
    "from mlflow.tracking import MlflowClient\n",
    "\n",
    "mlflow.set_tracking_uri(\"http://localhost:5000\")\n",
    "\n",
    "client = MlflowClient()\n",
    "\n",
    "# Search for the housing-related experiments\n",
    "experiments = [exp for exp in mlflow.search_experiments() if \"housing\" in exp.name.lower()]\n",
    "all_runs = []\n",
    "\n",
    "for exp in experiments:\n",
    "    runs = client.search_runs(exp.experiment_id)\n",
    "    for run in runs:\n",
    "        metrics = run.data.metrics\n",
    "        if \"r2_score\" in metrics:\n",
    "            all_runs.append({\n",
    "                \"experiment_name\": exp.name,\n",
    "                \"run_id\": run.info.run_id,\n",
    "                \"r2_score\": metrics[\"r2_score\"],\n",
    "                \"mse\": metrics.get(\"mse\", None)\n",
    "            })\n",
    "\n",
    "if not all_runs:\n",
    "    raise ValueError(\"❌ No valid runs with R² score found!\")\n",
    "\n",
    "# Select best based on R² score\n",
    "best_run = max(all_runs, key=lambda x: x[\"r2_score\"])\n",
    "best_run_id = best_run[\"run_id\"]\n",
    "print(f\"✅ Best Housing model: {best_run['experiment_name']} (R²: {best_run['r2_score']:.4f})\")\n",
    "\n"
   ]
  },
  {
   "cell_type": "code",
   "execution_count": null,
   "id": "3485111f-6144-4222-8118-d8f57eb6d70f",
   "metadata": {},
   "outputs": [],
   "source": [
    "# Define model name (you can change if needed)\n",
    "model_name = \"HousingBestModel\"\n",
    "artifact_path = \"model\"  # Assumes the artifact was logged with this name\n",
    "model_uri = f\"runs:/{best_run_id}/{artifact_path}\"\n",
    "\n",
    "# Register the model\n",
    "model_version = mlflow.register_model(model_uri=model_uri, name=model_name)\n",
    "\n",
    "# Promote the model to 'Production'\n",
    "client.transition_model_version_stage(\n",
    "    name=model_name,\n",
    "    version=model_version.version,\n",
    "    stage=\"Production\",\n",
    "    archive_existing_versions=True\n",
    ")\n",
    "\n",
    "print(f\"🚀 Model version {model_version.version} promoted to 'Production'\")\n"
   ]
  }
 ],
 "metadata": {
  "kernelspec": {
   "display_name": "Python 3 (ipykernel)",
   "language": "python",
   "name": "python3"
  },
  "language_info": {
   "codemirror_mode": {
    "name": "ipython",
    "version": 3
   },
   "file_extension": ".py",
   "mimetype": "text/x-python",
   "name": "python",
   "nbconvert_exporter": "python",
   "pygments_lexer": "ipython3",
   "version": "3.12.3"
  }
 },
 "nbformat": 4,
 "nbformat_minor": 5
}
